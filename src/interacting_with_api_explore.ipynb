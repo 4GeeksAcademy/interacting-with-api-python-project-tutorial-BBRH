{
    "cells": [
        {
            "cell_type": "markdown",
            "metadata": {},
            "source": [
                "# Interacting with api explore. \n",
                "En este proyecto se buscará explorar el uso de apis, así como los métodos de python para su manipulación."
            ]
        },
        {
            "cell_type": "markdown",
            "metadata": {},
            "source": [
                "## Paso 1. Variables de entorno"
            ]
        },
        {
            "cell_type": "code",
            "execution_count": 10,
            "metadata": {},
            "outputs": [],
            "source": [
                "import os\n",
                "import pandas as pd\n",
                "import matplotlib.pyplot as plt\n",
                "from dotenv import load_dotenv\n",
                "from spotipy.oauth2 import SpotifyClientCredentials\n",
                "import spotipy\n",
                "\n",
                "# load the .env file variables\n",
                "load_dotenv()\n",
                "\n",
                "# Obtener credenciales\n",
                "client_id = os.getenv('CLIENT_ID')\n",
                "client_secret = os.getenv(\"CLIENT_SECRET\")"
            ]
        },
        {
            "cell_type": "markdown",
            "metadata": {},
            "source": [
                "## Paso 2. Inicializar librería de Spotify"
            ]
        },
        {
            "cell_type": "code",
            "execution_count": 11,
            "metadata": {},
            "outputs": [],
            "source": [
                "\n",
                "auth_manager = SpotifyClientCredentials(client_id=client_id, client_secret=client_secret)\n",
                "sp = spotipy.Spotify(auth_manager=auth_manager)"
            ]
        },
        {
            "cell_type": "code",
            "execution_count": 12,
            "metadata": {},
            "outputs": [
                {
                    "name": "stdout",
                    "output_type": "stream",
                    "text": [
                        "Found Artist: The Doors\n",
                        "Riders on the Storm - https://open.spotify.com/track/14XWXWv5FoCbFzLksawpEe\n",
                        "People Are Strange - https://open.spotify.com/track/1Jmqubf9kGkWeYQXQKImL5\n",
                        "Roadhouse Blues - https://open.spotify.com/track/1Q5kgpp4pmyGqPwNBzkSrw\n",
                        "Break on Through (To the Other Side) - https://open.spotify.com/track/6ToM0uwxtPKo9CMpbPGYvM\n",
                        "Light My Fire - https://open.spotify.com/track/5uvosCdMlFdTXhoazkTI5R\n",
                        "Love Her Madly - https://open.spotify.com/track/3MFFDRC4wTN9JNGtzXsZlN\n",
                        "Love Me Two Times - https://open.spotify.com/track/67HxeUADW4H3ERfaPW59ma\n",
                        "Soul Kitchen - https://open.spotify.com/track/2Xdc6qyaFBJZ8QW1KhpVci\n",
                        "Peace Frog - https://open.spotify.com/track/5piJiL6aRhvrKBa9YuEfS9\n",
                        "Touch Me - https://open.spotify.com/track/4BVE5tIIpYabZcYCbephNW\n"
                    ]
                }
            ],
            "source": [
                "# Search for an artist\n",
                "artist_name = \"The Doors\"\n",
                "results = sp.search(q=f\"artist:{artist_name}\", type='artist')\n",
                "artist = results['artists']['items'][0]\n",
                "artist_id = artist['id']\n",
                "print(f\"Found Artist: {artist['name']}\")\n",
                "\n",
                "# Get top tracks\n",
                "top_tracks = sp.artist_top_tracks(artist_id)\n",
                "for track in top_tracks['tracks']:\n",
                "    print(f\"{track['name']} - {track['external_urls']['spotify']}\")"
            ]
        }
    ],
    "metadata": {
        "kernelspec": {
            "display_name": "Python 3",
            "language": "python",
            "name": "python3"
        },
        "language_info": {
            "codemirror_mode": {
                "name": "ipython",
                "version": 3
            },
            "file_extension": ".py",
            "mimetype": "text/x-python",
            "name": "python",
            "nbconvert_exporter": "python",
            "pygments_lexer": "ipython3",
            "version": "3.11.4"
        },
        "orig_nbformat": 4
    },
    "nbformat": 4,
    "nbformat_minor": 2
}
