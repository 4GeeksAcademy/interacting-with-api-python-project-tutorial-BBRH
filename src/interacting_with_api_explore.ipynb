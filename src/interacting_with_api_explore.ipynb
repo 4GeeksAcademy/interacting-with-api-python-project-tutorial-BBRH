{
    "cells": [
        {
            "cell_type": "markdown",
            "metadata": {},
            "source": [
                "# Interacting with api explore. \n",
                "En este proyecto se buscará explorar el uso de apis, así como los métodos de python para su manipulación."
            ]
        },
        {
            "cell_type": "markdown",
            "metadata": {},
            "source": [
                "## Paso 1. Variables de entorno"
            ]
        },
        {
            "cell_type": "code",
            "execution_count": 2,
            "metadata": {},
            "outputs": [],
            "source": [
                "import os\n",
                "import pandas as pd\n",
                "import matplotlib.pyplot as plt\n",
                "from dotenv import load_dotenv\n",
                "from spotipy.oauth2 import SpotifyClientCredentials\n",
                "import spotipy\n",
                "\n",
                "# load the .env file variables\n",
                "load_dotenv()\n",
                "\n",
                "# Obtener credenciales\n",
                "client_id = os.getenv('CLIENT_ID')\n",
                "client_secret = os.getenv(\"CLIENT_SECRET\")"
            ]
        },
        {
            "cell_type": "markdown",
            "metadata": {},
            "source": [
                "## Paso 2. Inicializar librería de Spotify"
            ]
        },
        {
            "cell_type": "code",
            "execution_count": 3,
            "metadata": {},
            "outputs": [],
            "source": [
                "\n",
                "auth_manager = SpotifyClientCredentials(client_id=client_id, client_secret=client_secret)\n",
                "sp = spotipy.Spotify(auth_manager=auth_manager)"
            ]
        },
        {
            "cell_type": "code",
            "execution_count": 5,
            "metadata": {},
            "outputs": [
                {
                    "name": "stdout",
                    "output_type": "stream",
                    "text": [
                        "Found Artist: The Doors\n",
                        "[{'name': 'Riders on the Storm', 'popularity': 77, 'duration': 434720}, {'name': 'People Are Strange', 'popularity': 76, 'duration': 130173}, {'name': 'Roadhouse Blues', 'popularity': 75, 'duration': 243826}, {'name': 'Break on Through (To the Other Side)', 'popularity': 74, 'duration': 145866}, {'name': 'Light My Fire', 'popularity': 73, 'duration': 429760}, {'name': 'Love Her Madly', 'popularity': 71, 'duration': 198466}, {'name': 'Love Me Two Times', 'popularity': 68, 'duration': 195106}, {'name': 'Soul Kitchen', 'popularity': 69, 'duration': 213000}, {'name': 'Peace Frog', 'popularity': 69, 'duration': 170132}, {'name': 'Touch Me', 'popularity': 68, 'duration': 190253}]\n"
                    ]
                }
            ],
            "source": [
                "# Buscar artista\n",
                "artist_name = \"The Doors\"\n",
                "results = sp.search(q=f\"artist:{artist_name}\", type='artist')\n",
                "artist = results['artists']['items'][0]\n",
                "artist_id = artist['id']\n",
                "print(f\"Found Artist: {artist['name']}\")\n",
                "\n",
                "# Obtener tracks\n",
                "top_tracks = sp.artist_top_tracks(artist_id)\n",
                "info_tracks = []\n",
                "for track in top_tracks['tracks']:\n",
                "    #print(track)\n",
                "    info_tracks.append({\n",
                "        \"name\" : track['name'],\n",
                "        \"popularity\" : track['popularity'],\n",
                "        \"duration\" : track['duration_ms']\n",
                "    })\n",
                "print(f\"{info_tracks}\")"
            ]
        }
    ],
    "metadata": {
        "kernelspec": {
            "display_name": "Python 3",
            "language": "python",
            "name": "python3"
        },
        "language_info": {
            "codemirror_mode": {
                "name": "ipython",
                "version": 3
            },
            "file_extension": ".py",
            "mimetype": "text/x-python",
            "name": "python",
            "nbconvert_exporter": "python",
            "pygments_lexer": "ipython3",
            "version": "3.11.4"
        },
        "orig_nbformat": 4
    },
    "nbformat": 4,
    "nbformat_minor": 2
}
