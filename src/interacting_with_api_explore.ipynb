{
    "cells": [
        {
            "cell_type": "markdown",
            "metadata": {},
            "source": [
                "# Interacting with api explore. \n",
                "En este proyecto se buscará explorar el uso de apis, así como los métodos de python para su manipulación."
            ]
        },
        {
            "cell_type": "markdown",
            "metadata": {},
            "source": [
                "## Paso 1. Variables de entorno"
            ]
        },
        {
            "cell_type": "code",
            "execution_count": 20,
            "metadata": {},
            "outputs": [],
            "source": [
                "import os\n",
                "import pandas as pd\n",
                "import matplotlib.pyplot as plt\n",
                "from dotenv import load_dotenv\n",
                "from spotipy.oauth2 import SpotifyClientCredentials\n",
                "import spotipy\n",
                "import seaborn as sns\n",
                "\n",
                "# load the .env file variables\n",
                "load_dotenv()\n",
                "\n",
                "# Obtener credenciales\n",
                "client_id = os.getenv('CLIENT_ID')\n",
                "client_secret = os.getenv(\"CLIENT_SECRET\")"
            ]
        },
        {
            "cell_type": "markdown",
            "metadata": {},
            "source": [
                "## Paso 2. Inicializar librería de Spotify"
            ]
        },
        {
            "cell_type": "code",
            "execution_count": 21,
            "metadata": {},
            "outputs": [],
            "source": [
                "\n",
                "auth_manager = SpotifyClientCredentials(client_id=client_id, client_secret=client_secret)\n",
                "sp = spotipy.Spotify(auth_manager=auth_manager)"
            ]
        },
        {
            "cell_type": "markdown",
            "metadata": {},
            "source": [
                "## Paso 3. Realizar solicitud a la API"
            ]
        },
        {
            "cell_type": "code",
            "execution_count": 22,
            "metadata": {},
            "outputs": [
                {
                    "name": "stdout",
                    "output_type": "stream",
                    "text": [
                        "Found Artist: The Doors\n",
                        "[{'name': 'Riders on the Storm', 'popularity': 77, 'duration': 434720}, {'name': 'People Are Strange', 'popularity': 76, 'duration': 130173}, {'name': 'Roadhouse Blues', 'popularity': 75, 'duration': 243826}, {'name': 'Break on Through (To the Other Side)', 'popularity': 74, 'duration': 145866}, {'name': 'Light My Fire', 'popularity': 73, 'duration': 429760}, {'name': 'Love Her Madly', 'popularity': 71, 'duration': 198466}, {'name': 'Love Me Two Times', 'popularity': 68, 'duration': 195106}, {'name': 'Soul Kitchen', 'popularity': 69, 'duration': 213000}, {'name': 'Peace Frog', 'popularity': 69, 'duration': 170132}, {'name': 'Touch Me', 'popularity': 68, 'duration': 190253}]\n"
                    ]
                }
            ],
            "source": [
                "# Buscar artista\n",
                "artist_name = \"The Doors\"\n",
                "results = sp.search(q=f\"artist:{artist_name}\", type='artist')\n",
                "artist = results['artists']['items'][0]\n",
                "artist_id = artist['id']\n",
                "print(f\"Found Artist: {artist['name']}\")\n",
                "\n",
                "# Obtener tracks\n",
                "top_tracks = sp.artist_top_tracks(artist_id)\n",
                "info_tracks = []\n",
                "for track in top_tracks['tracks']:\n",
                "    #print(track)\n",
                "    info_tracks.append({\n",
                "        \"name\" : track['name'],\n",
                "        \"popularity\" : track['popularity'],\n",
                "        \"duration\" : track['duration_ms']\n",
                "    })\n",
                "print(f\"{info_tracks}\")"
            ]
        },
        {
            "cell_type": "markdown",
            "metadata": {},
            "source": [
                "## Paso 4. Transformar a pandas DataFrame"
            ]
        },
        {
            "cell_type": "code",
            "execution_count": 23,
            "metadata": {},
            "outputs": [
                {
                    "data": {
                        "text/html": [
                            "<div>\n",
                            "<style scoped>\n",
                            "    .dataframe tbody tr th:only-of-type {\n",
                            "        vertical-align: middle;\n",
                            "    }\n",
                            "\n",
                            "    .dataframe tbody tr th {\n",
                            "        vertical-align: top;\n",
                            "    }\n",
                            "\n",
                            "    .dataframe thead th {\n",
                            "        text-align: right;\n",
                            "    }\n",
                            "</style>\n",
                            "<table border=\"1\" class=\"dataframe\">\n",
                            "  <thead>\n",
                            "    <tr style=\"text-align: right;\">\n",
                            "      <th></th>\n",
                            "      <th>name</th>\n",
                            "      <th>popularity</th>\n",
                            "      <th>duration</th>\n",
                            "    </tr>\n",
                            "  </thead>\n",
                            "  <tbody>\n",
                            "    <tr>\n",
                            "      <th>0</th>\n",
                            "      <td>Riders on the Storm</td>\n",
                            "      <td>77</td>\n",
                            "      <td>434720</td>\n",
                            "    </tr>\n",
                            "    <tr>\n",
                            "      <th>1</th>\n",
                            "      <td>People Are Strange</td>\n",
                            "      <td>76</td>\n",
                            "      <td>130173</td>\n",
                            "    </tr>\n",
                            "    <tr>\n",
                            "      <th>2</th>\n",
                            "      <td>Roadhouse Blues</td>\n",
                            "      <td>75</td>\n",
                            "      <td>243826</td>\n",
                            "    </tr>\n",
                            "    <tr>\n",
                            "      <th>3</th>\n",
                            "      <td>Break on Through (To the Other Side)</td>\n",
                            "      <td>74</td>\n",
                            "      <td>145866</td>\n",
                            "    </tr>\n",
                            "    <tr>\n",
                            "      <th>4</th>\n",
                            "      <td>Light My Fire</td>\n",
                            "      <td>73</td>\n",
                            "      <td>429760</td>\n",
                            "    </tr>\n",
                            "    <tr>\n",
                            "      <th>5</th>\n",
                            "      <td>Love Her Madly</td>\n",
                            "      <td>71</td>\n",
                            "      <td>198466</td>\n",
                            "    </tr>\n",
                            "    <tr>\n",
                            "      <th>6</th>\n",
                            "      <td>Love Me Two Times</td>\n",
                            "      <td>68</td>\n",
                            "      <td>195106</td>\n",
                            "    </tr>\n",
                            "    <tr>\n",
                            "      <th>7</th>\n",
                            "      <td>Soul Kitchen</td>\n",
                            "      <td>69</td>\n",
                            "      <td>213000</td>\n",
                            "    </tr>\n",
                            "    <tr>\n",
                            "      <th>8</th>\n",
                            "      <td>Peace Frog</td>\n",
                            "      <td>69</td>\n",
                            "      <td>170132</td>\n",
                            "    </tr>\n",
                            "    <tr>\n",
                            "      <th>9</th>\n",
                            "      <td>Touch Me</td>\n",
                            "      <td>68</td>\n",
                            "      <td>190253</td>\n",
                            "    </tr>\n",
                            "  </tbody>\n",
                            "</table>\n",
                            "</div>"
                        ],
                        "text/plain": [
                            "                                   name  popularity  duration\n",
                            "0                   Riders on the Storm          77    434720\n",
                            "1                    People Are Strange          76    130173\n",
                            "2                       Roadhouse Blues          75    243826\n",
                            "3  Break on Through (To the Other Side)          74    145866\n",
                            "4                         Light My Fire          73    429760\n",
                            "5                        Love Her Madly          71    198466\n",
                            "6                     Love Me Two Times          68    195106\n",
                            "7                          Soul Kitchen          69    213000\n",
                            "8                            Peace Frog          69    170132\n",
                            "9                              Touch Me          68    190253"
                        ]
                    },
                    "execution_count": 23,
                    "metadata": {},
                    "output_type": "execute_result"
                }
            ],
            "source": [
                "df = pd.DataFrame(info_tracks)\n",
                "df"
            ]
        },
        {
            "cell_type": "markdown",
            "metadata": {},
            "source": [
                "## Paso 5. Analizar relación estadística "
            ]
        },
        {
            "cell_type": "code",
            "execution_count": 24,
            "metadata": {},
            "outputs": [
                {
                    "name": "stderr",
                    "output_type": "stream",
                    "text": [
                        "/tmp/ipykernel_1193/2801297123.py:15: UserWarning: No artists with labels found to put in legend.  Note that artists whose label start with an underscore are ignored when legend() is called with no argument.\n",
                        "  plt.legend()\n"
                    ]
                },
                {
                    "data": {
                        "image/png": "[encoded data removed]",
                        "text/plain": [
                            "<Figure size 640x480 with 1 Axes>"
                        ]
                    },
                    "metadata": {},
                    "output_type": "display_data"
                }
            ],
            "source": [
                "# TODO: Code\n",
                "# Se realizar un scatter plot para visualizar los datos\n",
                "\n",
                "x = df[\"duration\"].to_numpy()\n",
                "y = df[\"popularity\"].to_numpy()\n",
                "\n",
                "plt.scatter(x, y, color='blue')\n",
                "\n",
                "plt.xlabel(\"Duranción\")\n",
                "plt.ylabel(\"Popularidad\")\n",
                "plt.title(\"Simple Scatter Plot Duración/Popularidad\")\n",
                "\n",
                "#plt.xlim(0, )\n",
                "\n",
                "plt.legend()\n",
                "plt.show()"
            ]
        },
        {
            "cell_type": "markdown",
            "metadata": {},
            "source": [
                "### Observaciones (Scatter Plot):  \n",
                "En el gráfico anterior se puede observar una posible relación, por lo que se validará con una matriz de correlación."
            ]
        },
        {
            "cell_type": "code",
            "execution_count": 25,
            "metadata": {},
            "outputs": [
                {
                    "data": {
                        "image/png": "[encoded data removed]",
                        "text/plain": [
                            "<Figure size 1000x500 with 2 Axes>"
                        ]
                    },
                    "metadata": {},
                    "output_type": "display_data"
                }
            ],
            "source": [
                "# Matriz de correlación\n",
                "df_dp = df[['duration', 'popularity']]\n",
                "\n",
                "plt.figure(figsize=(10, 5))\n",
                "sns.heatmap(df_dp.corr(), annot=True, fmt='.2f', cmap='Pastel2', linewidths=2)\n",
                "\n",
                "plt.title('Correlation Heatmap')\n",
                "plt.show()"
            ]
        },
        {
            "cell_type": "markdown",
            "metadata": {},
            "source": [
                "### Observaciones (matriz de correlación):  \n",
                "Al obtener los valores de correlación entre las variables \"Popularity\" y \"Duration\", se puede observar una `correlación débil de 0.37`, aunque es mínima, existe una pequeña relación entre ambas variables, sería interesante realizar el análisis con muchos más datos."
            ]
        }
    ],
    "metadata": {
        "kernelspec": {
            "display_name": "Python 3",
            "language": "python",
            "name": "python3"
        },
        "language_info": {
            "codemirror_mode": {
                "name": "ipython",
                "version": 3
            },
            "file_extension": ".py",
            "mimetype": "text/x-python",
            "name": "python",
            "nbconvert_exporter": "python",
            "pygments_lexer": "ipython3",
            "version": "3.11.4"
        },
        "orig_nbformat": 4
    },
    "nbformat": 4,
    "nbformat_minor": 2
}
